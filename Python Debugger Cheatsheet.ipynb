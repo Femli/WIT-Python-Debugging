{
 "cells": [
  {
   "cell_type": "markdown",
   "metadata": {},
   "source": [
    "# Getting Started\n",
    "\n",
    "Start with `import pdb` to import the library.\n",
    "Then, go ahead and set your *breakpoint* (where the debugger will begin) by typing `pdb.set_trace()` above the line you want to start at.\n",
    "\n",
    "## Debugging in the Terminal\n",
    "\n",
    "Once you are in the terminal, here are the commands you should remember:\n",
    "\n",
    "| *Command* | *Explanation*|\n",
    "|---------- |:-------------:|\n",
    "| **ENTER** | repeat the previous command |\n",
    "| **n(ext)**| execute the next line |\n",
    "| **s(tep)** | execute and step into function|\n",
    "| **c(ontinue)** | continue execution until a breakpoint is encountered |\n",
    "\n",
    "_Note_: next and step differ in that next just keeps going line by line, and steps goes line by line until it runs into a function, where it will take you to that function (very easy to get lost... use with caution)."
   ]
  },
  {
   "cell_type": "code",
   "execution_count": null,
   "metadata": {},
   "outputs": [],
   "source": []
  }
 ],
 "metadata": {
  "kernelspec": {
   "display_name": "Python 3",
   "language": "python",
   "name": "python3"
  },
  "language_info": {
   "codemirror_mode": {
    "name": "ipython",
    "version": 3
   },
   "file_extension": ".py",
   "mimetype": "text/x-python",
   "name": "python",
   "nbconvert_exporter": "python",
   "pygments_lexer": "ipython3",
   "version": "3.6.5"
  }
 },
 "nbformat": 4,
 "nbformat_minor": 2
}
